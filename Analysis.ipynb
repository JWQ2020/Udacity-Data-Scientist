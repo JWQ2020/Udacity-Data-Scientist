{
 "cells": [
  {
   "cell_type": "markdown",
   "metadata": {},
   "source": [
    "# 2019 Stack Overflow Survey"
   ]
  },
  {
   "cell_type": "markdown",
   "metadata": {},
   "source": [
    "## 1. Business understanding\n",
    "Using the 2019 Stack Overflow survey data, available at https://insights.stackoverflow.com/survey I will investigate the following three questions:\n",
    "\n",
    "<b> Q1. In Western Europe, is there a link between what languages you work with and earning a higher income? </b>\n",
    "\n",
    "I am taking Western Europe to comprise the countries in Europe that were not former states of the Eastern Bloc. By this definition, there are 21 countries in Western Europe:\n",
    "Austria, Belgium, Cyprus, Denmark, Finland, France, Germany, Greece, Iceland, Ireland, Italy, Luxembourg, Malta, Monaco, Netherlands, Norway, Portugal, Spain, Sweden, Switzerland, United Kingdom.\n",
    "\n",
    "<b> Q2. Which developer types have the longest working hours per week? </b>\n",
    "\n",
    "I will look at the mean hours worked per week for each type of developer, using respondents from the entire world, not just Western Europe.\n",
    "\n",
    "<b> Q3. What are the most important job factors associated with job satisfaction? </b>\n",
    "\n",
    "To increase the chances of a model getting an accurate, meaningful result, I will select for the analysis only the factors that relate to factors related the job itself, working practices and selected other factors that are likely to have influence on job satisfaction, e.g. career satisfaction, years of coding experience."
   ]
  },
  {
   "cell_type": "markdown",
   "metadata": {},
   "source": [
    "## 2. Data understanding"
   ]
  },
  {
   "cell_type": "markdown",
   "metadata": {},
   "source": [
    "#### 2.1 General information"
   ]
  },
  {
   "cell_type": "code",
   "execution_count": 1,
   "metadata": {},
   "outputs": [],
   "source": [
    "import numpy as np\n",
    "import pandas as pd\n",
    "import matplotlib.pyplot as plt\n",
    "from sklearn.linear_model import LinearRegression\n",
    "from sklearn.model_selection import train_test_split\n",
    "from sklearn.metrics import r2_score, mean_squared_error\n",
    "%matplotlib inline\n",
    "\n",
    "from sklearn.ensemble import RandomForestRegressor"
   ]
  },
  {
   "cell_type": "code",
   "execution_count": 2,
   "metadata": {},
   "outputs": [
    {
     "data": {
      "text/html": [
       "<div>\n",
       "<style scoped>\n",
       "    .dataframe tbody tr th:only-of-type {\n",
       "        vertical-align: middle;\n",
       "    }\n",
       "\n",
       "    .dataframe tbody tr th {\n",
       "        vertical-align: top;\n",
       "    }\n",
       "\n",
       "    .dataframe thead th {\n",
       "        text-align: right;\n",
       "    }\n",
       "</style>\n",
       "<table border=\"1\" class=\"dataframe\">\n",
       "  <thead>\n",
       "    <tr style=\"text-align: right;\">\n",
       "      <th></th>\n",
       "      <th>Respondent</th>\n",
       "      <th>MainBranch</th>\n",
       "      <th>Hobbyist</th>\n",
       "      <th>OpenSourcer</th>\n",
       "      <th>OpenSource</th>\n",
       "      <th>Employment</th>\n",
       "      <th>Country</th>\n",
       "      <th>Student</th>\n",
       "      <th>EdLevel</th>\n",
       "      <th>UndergradMajor</th>\n",
       "      <th>...</th>\n",
       "      <th>WelcomeChange</th>\n",
       "      <th>SONewContent</th>\n",
       "      <th>Age</th>\n",
       "      <th>Gender</th>\n",
       "      <th>Trans</th>\n",
       "      <th>Sexuality</th>\n",
       "      <th>Ethnicity</th>\n",
       "      <th>Dependents</th>\n",
       "      <th>SurveyLength</th>\n",
       "      <th>SurveyEase</th>\n",
       "    </tr>\n",
       "  </thead>\n",
       "  <tbody>\n",
       "    <tr>\n",
       "      <th>0</th>\n",
       "      <td>1</td>\n",
       "      <td>I am a student who is learning to code</td>\n",
       "      <td>Yes</td>\n",
       "      <td>Never</td>\n",
       "      <td>The quality of OSS and closed source software ...</td>\n",
       "      <td>Not employed, and not looking for work</td>\n",
       "      <td>United Kingdom</td>\n",
       "      <td>No</td>\n",
       "      <td>Primary/elementary school</td>\n",
       "      <td>NaN</td>\n",
       "      <td>...</td>\n",
       "      <td>Just as welcome now as I felt last year</td>\n",
       "      <td>Tech articles written by other developers;Indu...</td>\n",
       "      <td>14.0</td>\n",
       "      <td>Man</td>\n",
       "      <td>No</td>\n",
       "      <td>Straight / Heterosexual</td>\n",
       "      <td>NaN</td>\n",
       "      <td>No</td>\n",
       "      <td>Appropriate in length</td>\n",
       "      <td>Neither easy nor difficult</td>\n",
       "    </tr>\n",
       "    <tr>\n",
       "      <th>1</th>\n",
       "      <td>2</td>\n",
       "      <td>I am a student who is learning to code</td>\n",
       "      <td>No</td>\n",
       "      <td>Less than once per year</td>\n",
       "      <td>The quality of OSS and closed source software ...</td>\n",
       "      <td>Not employed, but looking for work</td>\n",
       "      <td>Bosnia and Herzegovina</td>\n",
       "      <td>Yes, full-time</td>\n",
       "      <td>Secondary school (e.g. American high school, G...</td>\n",
       "      <td>NaN</td>\n",
       "      <td>...</td>\n",
       "      <td>Just as welcome now as I felt last year</td>\n",
       "      <td>Tech articles written by other developers;Indu...</td>\n",
       "      <td>19.0</td>\n",
       "      <td>Man</td>\n",
       "      <td>No</td>\n",
       "      <td>Straight / Heterosexual</td>\n",
       "      <td>NaN</td>\n",
       "      <td>No</td>\n",
       "      <td>Appropriate in length</td>\n",
       "      <td>Neither easy nor difficult</td>\n",
       "    </tr>\n",
       "    <tr>\n",
       "      <th>2</th>\n",
       "      <td>3</td>\n",
       "      <td>I am not primarily a developer, but I write co...</td>\n",
       "      <td>Yes</td>\n",
       "      <td>Never</td>\n",
       "      <td>The quality of OSS and closed source software ...</td>\n",
       "      <td>Employed full-time</td>\n",
       "      <td>Thailand</td>\n",
       "      <td>No</td>\n",
       "      <td>Bachelor’s degree (BA, BS, B.Eng., etc.)</td>\n",
       "      <td>Web development or web design</td>\n",
       "      <td>...</td>\n",
       "      <td>Just as welcome now as I felt last year</td>\n",
       "      <td>Tech meetups or events in your area;Courses on...</td>\n",
       "      <td>28.0</td>\n",
       "      <td>Man</td>\n",
       "      <td>No</td>\n",
       "      <td>Straight / Heterosexual</td>\n",
       "      <td>NaN</td>\n",
       "      <td>Yes</td>\n",
       "      <td>Appropriate in length</td>\n",
       "      <td>Neither easy nor difficult</td>\n",
       "    </tr>\n",
       "    <tr>\n",
       "      <th>3</th>\n",
       "      <td>4</td>\n",
       "      <td>I am a developer by profession</td>\n",
       "      <td>No</td>\n",
       "      <td>Never</td>\n",
       "      <td>The quality of OSS and closed source software ...</td>\n",
       "      <td>Employed full-time</td>\n",
       "      <td>United States</td>\n",
       "      <td>No</td>\n",
       "      <td>Bachelor’s degree (BA, BS, B.Eng., etc.)</td>\n",
       "      <td>Computer science, computer engineering, or sof...</td>\n",
       "      <td>...</td>\n",
       "      <td>Just as welcome now as I felt last year</td>\n",
       "      <td>Tech articles written by other developers;Indu...</td>\n",
       "      <td>22.0</td>\n",
       "      <td>Man</td>\n",
       "      <td>No</td>\n",
       "      <td>Straight / Heterosexual</td>\n",
       "      <td>White or of European descent</td>\n",
       "      <td>No</td>\n",
       "      <td>Appropriate in length</td>\n",
       "      <td>Easy</td>\n",
       "    </tr>\n",
       "    <tr>\n",
       "      <th>4</th>\n",
       "      <td>5</td>\n",
       "      <td>I am a developer by profession</td>\n",
       "      <td>Yes</td>\n",
       "      <td>Once a month or more often</td>\n",
       "      <td>OSS is, on average, of HIGHER quality than pro...</td>\n",
       "      <td>Employed full-time</td>\n",
       "      <td>Ukraine</td>\n",
       "      <td>No</td>\n",
       "      <td>Bachelor’s degree (BA, BS, B.Eng., etc.)</td>\n",
       "      <td>Computer science, computer engineering, or sof...</td>\n",
       "      <td>...</td>\n",
       "      <td>Just as welcome now as I felt last year</td>\n",
       "      <td>Tech meetups or events in your area;Courses on...</td>\n",
       "      <td>30.0</td>\n",
       "      <td>Man</td>\n",
       "      <td>No</td>\n",
       "      <td>Straight / Heterosexual</td>\n",
       "      <td>White or of European descent;Multiracial</td>\n",
       "      <td>No</td>\n",
       "      <td>Appropriate in length</td>\n",
       "      <td>Easy</td>\n",
       "    </tr>\n",
       "  </tbody>\n",
       "</table>\n",
       "<p>5 rows × 85 columns</p>\n",
       "</div>"
      ],
      "text/plain": [
       "   Respondent                                         MainBranch Hobbyist  \\\n",
       "0           1             I am a student who is learning to code      Yes   \n",
       "1           2             I am a student who is learning to code       No   \n",
       "2           3  I am not primarily a developer, but I write co...      Yes   \n",
       "3           4                     I am a developer by profession       No   \n",
       "4           5                     I am a developer by profession      Yes   \n",
       "\n",
       "                  OpenSourcer  \\\n",
       "0                       Never   \n",
       "1     Less than once per year   \n",
       "2                       Never   \n",
       "3                       Never   \n",
       "4  Once a month or more often   \n",
       "\n",
       "                                          OpenSource  \\\n",
       "0  The quality of OSS and closed source software ...   \n",
       "1  The quality of OSS and closed source software ...   \n",
       "2  The quality of OSS and closed source software ...   \n",
       "3  The quality of OSS and closed source software ...   \n",
       "4  OSS is, on average, of HIGHER quality than pro...   \n",
       "\n",
       "                               Employment                 Country  \\\n",
       "0  Not employed, and not looking for work          United Kingdom   \n",
       "1      Not employed, but looking for work  Bosnia and Herzegovina   \n",
       "2                      Employed full-time                Thailand   \n",
       "3                      Employed full-time           United States   \n",
       "4                      Employed full-time                 Ukraine   \n",
       "\n",
       "          Student                                            EdLevel  \\\n",
       "0              No                          Primary/elementary school   \n",
       "1  Yes, full-time  Secondary school (e.g. American high school, G...   \n",
       "2              No           Bachelor’s degree (BA, BS, B.Eng., etc.)   \n",
       "3              No           Bachelor’s degree (BA, BS, B.Eng., etc.)   \n",
       "4              No           Bachelor’s degree (BA, BS, B.Eng., etc.)   \n",
       "\n",
       "                                      UndergradMajor  ...  \\\n",
       "0                                                NaN  ...   \n",
       "1                                                NaN  ...   \n",
       "2                      Web development or web design  ...   \n",
       "3  Computer science, computer engineering, or sof...  ...   \n",
       "4  Computer science, computer engineering, or sof...  ...   \n",
       "\n",
       "                             WelcomeChange  \\\n",
       "0  Just as welcome now as I felt last year   \n",
       "1  Just as welcome now as I felt last year   \n",
       "2  Just as welcome now as I felt last year   \n",
       "3  Just as welcome now as I felt last year   \n",
       "4  Just as welcome now as I felt last year   \n",
       "\n",
       "                                        SONewContent   Age Gender Trans  \\\n",
       "0  Tech articles written by other developers;Indu...  14.0    Man    No   \n",
       "1  Tech articles written by other developers;Indu...  19.0    Man    No   \n",
       "2  Tech meetups or events in your area;Courses on...  28.0    Man    No   \n",
       "3  Tech articles written by other developers;Indu...  22.0    Man    No   \n",
       "4  Tech meetups or events in your area;Courses on...  30.0    Man    No   \n",
       "\n",
       "                 Sexuality                                 Ethnicity  \\\n",
       "0  Straight / Heterosexual                                       NaN   \n",
       "1  Straight / Heterosexual                                       NaN   \n",
       "2  Straight / Heterosexual                                       NaN   \n",
       "3  Straight / Heterosexual              White or of European descent   \n",
       "4  Straight / Heterosexual  White or of European descent;Multiracial   \n",
       "\n",
       "  Dependents           SurveyLength                  SurveyEase  \n",
       "0         No  Appropriate in length  Neither easy nor difficult  \n",
       "1         No  Appropriate in length  Neither easy nor difficult  \n",
       "2        Yes  Appropriate in length  Neither easy nor difficult  \n",
       "3         No  Appropriate in length                        Easy  \n",
       "4         No  Appropriate in length                        Easy  \n",
       "\n",
       "[5 rows x 85 columns]"
      ]
     },
     "execution_count": 2,
     "metadata": {},
     "output_type": "execute_result"
    }
   ],
   "source": [
    "# Import data\n",
    "df = pd.read_csv('./survey_results_public.csv')\n",
    "schema = pd.read_csv('./survey_results_schema.csv')\n",
    "df.head()"
   ]
  },
  {
   "cell_type": "code",
   "execution_count": 3,
   "metadata": {},
   "outputs": [
    {
     "name": "stdout",
     "output_type": "stream",
     "text": [
      "88883\n",
      "85\n"
     ]
    }
   ],
   "source": [
    "# Size of dataset\n",
    "num_rows = df.shape[0]\n",
    "num_cols = df.shape[1]\n",
    "print(num_rows)\n",
    "print(num_cols)"
   ]
  },
  {
   "cell_type": "code",
   "execution_count": 4,
   "metadata": {},
   "outputs": [
    {
     "name": "stdout",
     "output_type": "stream",
     "text": [
      "{'Hobbyist', 'Respondent', 'OpenSourcer'}\n"
     ]
    }
   ],
   "source": [
    "# Columns with no missing values\n",
    "no_nulls = set(df.columns[df.isnull().mean()==0])\n",
    "print(no_nulls)"
   ]
  },
  {
   "cell_type": "code",
   "execution_count": 5,
   "metadata": {},
   "outputs": [
    {
     "name": "stdout",
     "output_type": "stream",
     "text": [
      "set()\n"
     ]
    }
   ],
   "source": [
    "# Columns with over 50% missing values\n",
    "most_missing_cols = set(df.columns[df.isnull().mean() > 0.5])\n",
    "print(most_missing_cols)"
   ]
  },
  {
   "cell_type": "code",
   "execution_count": 6,
   "metadata": {},
   "outputs": [
    {
     "name": "stdout",
     "output_type": "stream",
     "text": [
      "Index(['Respondent', 'MainBranch', 'Hobbyist', 'OpenSourcer', 'OpenSource',\n",
      "       'Employment', 'Country', 'Student', 'EdLevel', 'UndergradMajor',\n",
      "       'EduOther', 'OrgSize', 'DevType', 'YearsCode', 'Age1stCode',\n",
      "       'YearsCodePro', 'CareerSat', 'JobSat', 'MgrIdiot', 'MgrMoney',\n",
      "       'MgrWant', 'JobSeek', 'LastHireDate', 'LastInt', 'FizzBuzz',\n",
      "       'JobFactors', 'ResumeUpdate', 'CurrencySymbol', 'CurrencyDesc',\n",
      "       'CompTotal', 'CompFreq', 'ConvertedComp', 'WorkWeekHrs', 'WorkPlan',\n",
      "       'WorkChallenge', 'WorkRemote', 'WorkLoc', 'ImpSyn', 'CodeRev',\n",
      "       'CodeRevHrs', 'UnitTests', 'PurchaseHow', 'PurchaseWhat',\n",
      "       'LanguageWorkedWith', 'LanguageDesireNextYear', 'DatabaseWorkedWith',\n",
      "       'DatabaseDesireNextYear', 'PlatformWorkedWith',\n",
      "       'PlatformDesireNextYear', 'WebFrameWorkedWith',\n",
      "       'WebFrameDesireNextYear', 'MiscTechWorkedWith',\n",
      "       'MiscTechDesireNextYear', 'DevEnviron', 'OpSys', 'Containers',\n",
      "       'BlockchainOrg', 'BlockchainIs', 'BetterLife', 'ITperson', 'OffOn',\n",
      "       'SocialMedia', 'Extraversion', 'ScreenName', 'SOVisit1st',\n",
      "       'SOVisitFreq', 'SOVisitTo', 'SOFindAnswer', 'SOTimeSaved',\n",
      "       'SOHowMuchTime', 'SOAccount', 'SOPartFreq', 'SOJobs', 'EntTeams',\n",
      "       'SOComm', 'WelcomeChange', 'SONewContent', 'Age', 'Gender', 'Trans',\n",
      "       'Sexuality', 'Ethnicity', 'Dependents', 'SurveyLength', 'SurveyEase'],\n",
      "      dtype='object')\n"
     ]
    }
   ],
   "source": [
    "# List of columns\n",
    "print(df.columns)"
   ]
  },
  {
   "cell_type": "code",
   "execution_count": 7,
   "metadata": {},
   "outputs": [],
   "source": [
    "# Create function to show column descriptions from schema - to use later\n",
    "\n",
    "def get_description(column_name, schema=schema):\n",
    "    '''\n",
    "    INPUT - schema - pandas dataframe with the schema of the developers survey\n",
    "            column_name - string - the name of the column you would like to know about\n",
    "    OUTPUT - \n",
    "            desc - string - the description of the column\n",
    "    '''\n",
    "    desc = list(schema[schema['Column'] == column_name]['QuestionText'])[0]\n",
    "    return desc"
   ]
  },
  {
   "cell_type": "markdown",
   "metadata": {},
   "source": [
    "#### 2.2 Nationality"
   ]
  },
  {
   "cell_type": "code",
   "execution_count": 8,
   "metadata": {},
   "outputs": [],
   "source": [
    "# Grouping Western European countries\n",
    "def in_w_europe(country):\n",
    "    if country in ('Austria', 'Belgium', 'Cyprus', 'Denmark', 'Finland', 'France', 'Germany', 'Greece', 'Iceland',\n",
    "                   'Ireland', 'Italy', 'Luxembourg', 'Malta', 'Monaco', 'Netherlands', 'Norway', \n",
    "                   'Portugal', 'Spain', 'Sweden', 'Switzerland', 'United Kingdom'):\n",
    "        return 1\n",
    "    else:\n",
    "        return 0"
   ]
  },
  {
   "cell_type": "code",
   "execution_count": 9,
   "metadata": {},
   "outputs": [
    {
     "name": "stdout",
     "output_type": "stream",
     "text": [
      "0.2970871820258092\n"
     ]
    }
   ],
   "source": [
    "# percentage of respondents from Western Europe\n",
    "in_w_europe_df = df[\"Country\"].apply(in_w_europe)\n",
    "print(in_w_europe_df.mean())"
   ]
  },
  {
   "cell_type": "markdown",
   "metadata": {},
   "source": [
    "#### 2.3 Languages"
   ]
  },
  {
   "cell_type": "code",
   "execution_count": 10,
   "metadata": {},
   "outputs": [
    {
     "data": {
      "text/plain": [
       "'Which of the following programming, scripting, and markup languages have you done extensive development work in over the past year, and which do you want to work in over the next year?  (If you both worked with the language and want to continue to do so, please check both boxes in that row.)'"
      ]
     },
     "execution_count": 10,
     "metadata": {},
     "output_type": "execute_result"
    }
   ],
   "source": [
    "get_description('LanguageWorkedWith')"
   ]
  },
  {
   "cell_type": "code",
   "execution_count": 11,
   "metadata": {},
   "outputs": [
    {
     "data": {
      "text/plain": [
       "20098"
      ]
     },
     "execution_count": 11,
     "metadata": {},
     "output_type": "execute_result"
    }
   ],
   "source": [
    "# How many different types of languages are there\n",
    "df.LanguageWorkedWith.nunique()"
   ]
  },
  {
   "cell_type": "code",
   "execution_count": 12,
   "metadata": {},
   "outputs": [],
   "source": [
    "# A very large number of unique responses. LanguageWorkedWith allows respondents \n",
    "# to choose more than one language in his or her reply, so each of the unique responses represents a unique combination \n",
    "# of languages.\n",
    "# Using the original survey questions, I will create a columns for each of the 27 language options listed in the survey\n",
    "# while treating the data in LanguageWorkedWith as categorical data.\n",
    "# There is also a free text box that enables respondents to type in any other language outside the 27. \n",
    "# However, for simplicity, and since the original 27 represent the most commonly used languages, I will ignore others. "
   ]
  },
  {
   "cell_type": "code",
   "execution_count": 13,
   "metadata": {},
   "outputs": [],
   "source": [
    "df['Assembly'] = df['LanguageWorkedWith'].str.contains(r'(?:\\s|^|;)Assembly(?:\\s|$|;)', na=False)\n",
    "df['Bash/Shell/PowerShell'] = df['LanguageWorkedWith'].str.contains('Bash/Shell/PowerShell', na=False)\n",
    "df['C'] = df['LanguageWorkedWith'].str.contains(r'(?:\\s|^|;)C(?:\\s|$|;)', na=False)\n",
    "df['C++'] = df['LanguageWorkedWith'].str.contains(r'(?:\\s|^|;)C\\+\\+(?:\\s|$|;)', na=False)\n",
    "df['C#'] = df['LanguageWorkedWith'].str.contains('C#', na=False)\n",
    "df['Clojure'] = df['LanguageWorkedWith'].str.contains('Clojure', na=False)\n",
    "df['Dart'] = df['LanguageWorkedWith'].str.contains('Dart', na=False)\n",
    "df['Elixir'] = df['LanguageWorkedWith'].str.contains('Elixir', na=False)\n",
    "df['Erlang'] = df['LanguageWorkedWith'].str.contains('Erlang', na=False)\n",
    "df['F#'] = df['LanguageWorkedWith'].str.contains('F#', na=False)\n",
    "df['Go'] = df['LanguageWorkedWith'].str.contains('Go', na=False)\n",
    "df['HTML/CSS'] = df['LanguageWorkedWith'].str.contains('HTML/CSS', na=False)\n",
    "df['Java'] = df['LanguageWorkedWith'].str.contains(r'(?:\\s|^|;)Java(?:\\s|$|;)', na=False)\n",
    "df['JavaScript'] = df['LanguageWorkedWith'].str.contains('JavaScript', na=False)\n",
    "df['Kotlin'] = df['LanguageWorkedWith'].str.contains('Kotlin', na=False)\n",
    "df['Objective-C'] = df['LanguageWorkedWith'].str.contains('Objective-C', na=False)\n",
    "df['PHP'] = df['LanguageWorkedWith'].str.contains('PHP', na=False)\n",
    "df['Python'] = df['LanguageWorkedWith'].str.contains('Python', na=False)\n",
    "df['R'] = df['LanguageWorkedWith'].str.contains(r'(?:\\s|^|;)R(?:\\s|$|;)', na=False)\n",
    "df['Ruby'] = df['LanguageWorkedWith'].str.contains('Ruby', na=False)\n",
    "df['Rust'] = df['LanguageWorkedWith'].str.contains('Rust', na=False)\n",
    "df['Scala'] = df['LanguageWorkedWith'].str.contains('Scala', na=False)\n",
    "df['SQL'] = df['LanguageWorkedWith'].str.contains('SQL', na=False)\n",
    "df['Swift'] = df['LanguageWorkedWith'].str.contains('Swift', na=False)\n",
    "df['TypeScript'] = df['LanguageWorkedWith'].str.contains('TypeScript', na=False)\n",
    "df['VBA'] = df['LanguageWorkedWith'].str.contains('VBA', na=False)\n",
    "df['WebAssembly'] = df['LanguageWorkedWith'].str.contains('WebAssembly', na=False)\n",
    "df['Other(s)'] = df['LanguageWorkedWith'].str.contains('Other\\(s\\)', na=False)"
   ]
  },
  {
   "cell_type": "code",
   "execution_count": 14,
   "metadata": {},
   "outputs": [],
   "source": [
    "# convert Boolean to floating data\n",
    "df.iloc[:, df.columns.get_loc('Assembly'):df.columns.get_loc('Other(s)')+1] = 1.0 * df.iloc[:, df.columns.get_loc('Assembly'):df.columns.get_loc('Other(s)')+1]"
   ]
  },
  {
   "cell_type": "code",
   "execution_count": 15,
   "metadata": {},
   "outputs": [],
   "source": [
    "# Deleting original column LanguageWorkedWith to avoid duplication of data\n",
    "df.drop('LanguageWorkedWith', axis=1, inplace=True)"
   ]
  },
  {
   "cell_type": "markdown",
   "metadata": {},
   "source": [
    "**2.3.1 Chart to show how often a particular language appears in responses**"
   ]
  },
  {
   "cell_type": "code",
   "execution_count": 16,
   "metadata": {},
   "outputs": [
    {
     "name": "stdout",
     "output_type": "stream",
     "text": [
      "0 Respondent\n",
      "1 MainBranch\n",
      "2 Hobbyist\n",
      "3 OpenSourcer\n",
      "4 OpenSource\n",
      "5 Employment\n",
      "6 Country\n",
      "7 Student\n",
      "8 EdLevel\n",
      "9 UndergradMajor\n",
      "10 EduOther\n",
      "11 OrgSize\n",
      "12 DevType\n",
      "13 YearsCode\n",
      "14 Age1stCode\n",
      "15 YearsCodePro\n",
      "16 CareerSat\n",
      "17 JobSat\n",
      "18 MgrIdiot\n",
      "19 MgrMoney\n",
      "20 MgrWant\n",
      "21 JobSeek\n",
      "22 LastHireDate\n",
      "23 LastInt\n",
      "24 FizzBuzz\n",
      "25 JobFactors\n",
      "26 ResumeUpdate\n",
      "27 CurrencySymbol\n",
      "28 CurrencyDesc\n",
      "29 CompTotal\n",
      "30 CompFreq\n",
      "31 ConvertedComp\n",
      "32 WorkWeekHrs\n",
      "33 WorkPlan\n",
      "34 WorkChallenge\n",
      "35 WorkRemote\n",
      "36 WorkLoc\n",
      "37 ImpSyn\n",
      "38 CodeRev\n",
      "39 CodeRevHrs\n",
      "40 UnitTests\n",
      "41 PurchaseHow\n",
      "42 PurchaseWhat\n",
      "43 LanguageDesireNextYear\n",
      "44 DatabaseWorkedWith\n",
      "45 DatabaseDesireNextYear\n",
      "46 PlatformWorkedWith\n",
      "47 PlatformDesireNextYear\n",
      "48 WebFrameWorkedWith\n",
      "49 WebFrameDesireNextYear\n",
      "50 MiscTechWorkedWith\n",
      "51 MiscTechDesireNextYear\n",
      "52 DevEnviron\n",
      "53 OpSys\n",
      "54 Containers\n",
      "55 BlockchainOrg\n",
      "56 BlockchainIs\n",
      "57 BetterLife\n",
      "58 ITperson\n",
      "59 OffOn\n",
      "60 SocialMedia\n",
      "61 Extraversion\n",
      "62 ScreenName\n",
      "63 SOVisit1st\n",
      "64 SOVisitFreq\n",
      "65 SOVisitTo\n",
      "66 SOFindAnswer\n",
      "67 SOTimeSaved\n",
      "68 SOHowMuchTime\n",
      "69 SOAccount\n",
      "70 SOPartFreq\n",
      "71 SOJobs\n",
      "72 EntTeams\n",
      "73 SOComm\n",
      "74 WelcomeChange\n",
      "75 SONewContent\n",
      "76 Age\n",
      "77 Gender\n",
      "78 Trans\n",
      "79 Sexuality\n",
      "80 Ethnicity\n",
      "81 Dependents\n",
      "82 SurveyLength\n",
      "83 SurveyEase\n",
      "84 Assembly\n",
      "85 Bash/Shell/PowerShell\n",
      "86 C\n",
      "87 C++\n",
      "88 C#\n",
      "89 Clojure\n",
      "90 Dart\n",
      "91 Elixir\n",
      "92 Erlang\n",
      "93 F#\n",
      "94 Go\n",
      "95 HTML/CSS\n",
      "96 Java\n",
      "97 JavaScript\n",
      "98 Kotlin\n",
      "99 Objective-C\n",
      "100 PHP\n",
      "101 Python\n",
      "102 R\n",
      "103 Ruby\n",
      "104 Rust\n",
      "105 Scala\n",
      "106 SQL\n",
      "107 Swift\n",
      "108 TypeScript\n",
      "109 VBA\n",
      "110 WebAssembly\n",
      "111 Other(s)\n"
     ]
    }
   ],
   "source": [
    "# find relevant columns\n",
    "l = df.columns\n",
    "for number, item in enumerate(l):\n",
    "  print(number, item)"
   ]
  },
  {
   "cell_type": "code",
   "execution_count": 17,
   "metadata": {},
   "outputs": [],
   "source": [
    "Lang = []\n",
    "for i in range(df.columns.get_loc('Assembly'),df.columns.get_loc('Other(s)')+1):\n",
    "    Lang.append(df.iloc[:,i].sum())"
   ]
  },
  {
   "cell_type": "code",
   "execution_count": 18,
   "metadata": {},
   "outputs": [
    {
     "data": {
      "image/png": "[encoded data removed]",
      "text/plain": [
       "<Figure size 1080x1080 with 1 Axes>"
      ]
     },
     "metadata": {
      "needs_background": "light"
     },
     "output_type": "display_data"
    }
   ],
   "source": [
    "dfDT = pd.DataFrame(Lang)\n",
    "dfDT = dfDT.T\n",
    "dfDT.columns = l[df.columns.get_loc('Assembly'):df.columns.get_loc('Other(s)')+1]\n",
    "dfDT = dfDT.squeeze()\n",
    "\n",
    "dfDT.sort_values().plot(kind=\"barh\",figsize=(15,15));\n",
    "plt.title(\"Languages\");"
   ]
  },
  {
   "cell_type": "markdown",
   "metadata": {},
   "source": [
    "#### 2.4 Developer types"
   ]
  },
  {
   "cell_type": "code",
   "execution_count": 19,
   "metadata": {},
   "outputs": [
    {
     "data": {
      "text/plain": [
       "'Which of the following describe you? Please select all that apply.'"
      ]
     },
     "execution_count": 19,
     "metadata": {},
     "output_type": "execute_result"
    }
   ],
   "source": [
    "get_description('DevType')"
   ]
  },
  {
   "cell_type": "code",
   "execution_count": 20,
   "metadata": {},
   "outputs": [
    {
     "data": {
      "text/plain": [
       "13141"
      ]
     },
     "execution_count": 20,
     "metadata": {},
     "output_type": "execute_result"
    }
   ],
   "source": [
    "# How many different types of developer are there\n",
    "df.DevType.nunique()"
   ]
  },
  {
   "cell_type": "code",
   "execution_count": 21,
   "metadata": {},
   "outputs": [],
   "source": [
    "# A very large number of unique responses. DevType allows respondents \n",
    "# to choose more than one language in his or her reply, so each of the unique responses represents a unique combination \n",
    "# of languages.\n",
    "# Using the original survey questions, I will create additional columns in the same way as with Languages.\n",
    "# Note that the there is an existing column, \"Student\", which represents student status (yes / no / part time),\n",
    "# so I will call the column that represents the DevType of Student as \"DevType Student\""
   ]
  },
  {
   "cell_type": "code",
   "execution_count": 22,
   "metadata": {},
   "outputs": [],
   "source": [
    "df['Academic_Researcher'] = df['DevType'].str.count('Academic researcher')\n",
    "df['Data or business analyst'] = df['DevType'].str.count('Data or business analyst')\n",
    "df['Data scientist or machine learning specialist'] = df['DevType'].str.count('Data scientist or machine learning specialist')\n",
    "df['Database administrator'] = df['DevType'].str.count('Database administrator')\n",
    "df['Designer'] = df['DevType'].str.count('Designer')\n",
    "df['Developer, back-end'] = df['DevType'].str.count('Developer, back-end')\n",
    "df['Developer, desktop or enterprise applications'] = df['DevType'].str.count('Developer, desktop or enterprise applications')\n",
    "df['Developer, embedded applications or devices'] = df['DevType'].str.count('Developer, embedded applications or devices')\n",
    "df['Developer, front-end'] = df['DevType'].str.count('Developer, front-end')\n",
    "df['Developer, full-stack'] = df['DevType'].str.count('Developer, full-stack')\n",
    "df['Developer, game or graphics'] = df['DevType'].str.count('Developer, game or graphics')\n",
    "df['Developer, mobile'] = df['DevType'].str.count('Developer, mobile')\n",
    "df['Developer, QA or test'] = df['DevType'].str.count('Developer, QA or test')\n",
    "df['DevOps specialist'] = df['DevType'].str.count('DevOps specialist')\n",
    "df['Educator'] = df['DevType'].str.count('Educator')\n",
    "df['Engineer, data'] = df['DevType'].str.count('Engineer, data')\n",
    "df['Engineer, site reliability'] = df['DevType'].str.count('Engineer, site reliability')\n",
    "df['Engineering manager'] = df['DevType'].str.count('Engineering manager')\n",
    "df['Marketing or sales professional'] = df['DevType'].str.count('Marketing or sales professional')\n",
    "df['Product manager'] = df['DevType'].str.count('Product manager')\n",
    "df['Scientist'] = df['DevType'].str.count('Scientist')\n",
    "df['Senior executive/VP'] = df['DevType'].str.count('Senior executive/VP')\n",
    "df['DevType Student'] = df['DevType'].str.count('Student')\n",
    "df['System administrator'] = df['DevType'].str.count('System administrator')\n",
    "df['Other'] = df['DevType'].str.count('Other')"
   ]
  },
  {
   "cell_type": "code",
   "execution_count": 23,
   "metadata": {},
   "outputs": [],
   "source": [
    "# Deleting original column DevType to avoid duplication of data\n",
    "df.drop('DevType', axis=1, inplace=True)"
   ]
  },
  {
   "cell_type": "markdown",
   "metadata": {},
   "source": [
    "**2.4.1 Chart to show how many of each DevType there are**"
   ]
  },
  {
   "cell_type": "code",
   "execution_count": 24,
   "metadata": {},
   "outputs": [
    {
     "name": "stdout",
     "output_type": "stream",
     "text": [
      "0 Respondent\n",
      "1 MainBranch\n",
      "2 Hobbyist\n",
      "3 OpenSourcer\n",
      "4 OpenSource\n",
      "5 Employment\n",
      "6 Country\n",
      "7 Student\n",
      "8 EdLevel\n",
      "9 UndergradMajor\n",
      "10 EduOther\n",
      "11 OrgSize\n",
      "12 YearsCode\n",
      "13 Age1stCode\n",
      "14 YearsCodePro\n",
      "15 CareerSat\n",
      "16 JobSat\n",
      "17 MgrIdiot\n",
      "18 MgrMoney\n",
      "19 MgrWant\n",
      "20 JobSeek\n",
      "21 LastHireDate\n",
      "22 LastInt\n",
      "23 FizzBuzz\n",
      "24 JobFactors\n",
      "25 ResumeUpdate\n",
      "26 CurrencySymbol\n",
      "27 CurrencyDesc\n",
      "28 CompTotal\n",
      "29 CompFreq\n",
      "30 ConvertedComp\n",
      "31 WorkWeekHrs\n",
      "32 WorkPlan\n",
      "33 WorkChallenge\n",
      "34 WorkRemote\n",
      "35 WorkLoc\n",
      "36 ImpSyn\n",
      "37 CodeRev\n",
      "38 CodeRevHrs\n",
      "39 UnitTests\n",
      "40 PurchaseHow\n",
      "41 PurchaseWhat\n",
      "42 LanguageDesireNextYear\n",
      "43 DatabaseWorkedWith\n",
      "44 DatabaseDesireNextYear\n",
      "45 PlatformWorkedWith\n",
      "46 PlatformDesireNextYear\n",
      "47 WebFrameWorkedWith\n",
      "48 WebFrameDesireNextYear\n",
      "49 MiscTechWorkedWith\n",
      "50 MiscTechDesireNextYear\n",
      "51 DevEnviron\n",
      "52 OpSys\n",
      "53 Containers\n",
      "54 BlockchainOrg\n",
      "55 BlockchainIs\n",
      "56 BetterLife\n",
      "57 ITperson\n",
      "58 OffOn\n",
      "59 SocialMedia\n",
      "60 Extraversion\n",
      "61 ScreenName\n",
      "62 SOVisit1st\n",
      "63 SOVisitFreq\n",
      "64 SOVisitTo\n",
      "65 SOFindAnswer\n",
      "66 SOTimeSaved\n",
      "67 SOHowMuchTime\n",
      "68 SOAccount\n",
      "69 SOPartFreq\n",
      "70 SOJobs\n",
      "71 EntTeams\n",
      "72 SOComm\n",
      "73 WelcomeChange\n",
      "74 SONewContent\n",
      "75 Age\n",
      "76 Gender\n",
      "77 Trans\n",
      "78 Sexuality\n",
      "79 Ethnicity\n",
      "80 Dependents\n",
      "81 SurveyLength\n",
      "82 SurveyEase\n",
      "83 Assembly\n",
      "84 Bash/Shell/PowerShell\n",
      "85 C\n",
      "86 C++\n",
      "87 C#\n",
      "88 Clojure\n",
      "89 Dart\n",
      "90 Elixir\n",
      "91 Erlang\n",
      "92 F#\n",
      "93 Go\n",
      "94 HTML/CSS\n",
      "95 Java\n",
      "96 JavaScript\n",
      "97 Kotlin\n",
      "98 Objective-C\n",
      "99 PHP\n",
      "100 Python\n",
      "101 R\n",
      "102 Ruby\n",
      "103 Rust\n",
      "104 Scala\n",
      "105 SQL\n",
      "106 Swift\n",
      "107 TypeScript\n",
      "108 VBA\n",
      "109 WebAssembly\n",
      "110 Other(s)\n",
      "111 Academic_Researcher\n",
      "112 Data or business analyst\n",
      "113 Data scientist or machine learning specialist\n",
      "114 Database administrator\n",
      "115 Designer\n",
      "116 Developer, back-end\n",
      "117 Developer, desktop or enterprise applications\n",
      "118 Developer, embedded applications or devices\n",
      "119 Developer, front-end\n",
      "120 Developer, full-stack\n",
      "121 Developer, game or graphics\n",
      "122 Developer, mobile\n",
      "123 Developer, QA or test\n",
      "124 DevOps specialist\n",
      "125 Educator\n",
      "126 Engineer, data\n",
      "127 Engineer, site reliability\n",
      "128 Engineering manager\n",
      "129 Marketing or sales professional\n",
      "130 Product manager\n",
      "131 Scientist\n",
      "132 Senior executive/VP\n",
      "133 DevType Student\n",
      "134 System administrator\n",
      "135 Other\n"
     ]
    }
   ],
   "source": [
    "# find relevant columns\n",
    "l = df.columns\n",
    "for number, item in enumerate(l):\n",
    "  print(number, item)"
   ]
  },
  {
   "cell_type": "code",
   "execution_count": 25,
   "metadata": {},
   "outputs": [],
   "source": [
    "DevType = []\n",
    "for i in range(df.columns.get_loc('Academic_Researcher'),df.columns.get_loc('Other')+1):\n",
    "    DevType.append(df.iloc[:,i].sum())"
   ]
  },
  {
   "cell_type": "code",
   "execution_count": 26,
   "metadata": {},
   "outputs": [
    {
     "data": {
      "image/png": "[encoded data removed]",
      "text/plain": [
       "<Figure size 1080x1080 with 1 Axes>"
      ]
     },
     "metadata": {
      "needs_background": "light"
     },
     "output_type": "display_data"
    }
   ],
   "source": [
    "dfDT = pd.DataFrame(DevType)\n",
    "dfDT = dfDT.T\n",
    "dfDT.columns = l[df.columns.get_loc('Academic_Researcher'):df.columns.get_loc('Other')+1]\n",
    "dfDT = dfDT.squeeze()\n",
    "\n",
    "dfDT.sort_values().plot(kind=\"barh\",figsize=(15,15));\n",
    "plt.title(\"Developer type\");"
   ]
  },
  {
   "cell_type": "markdown",
   "metadata": {},
   "source": [
    "#### 2.5 Job satisfaction"
   ]
  },
  {
   "cell_type": "code",
   "execution_count": 27,
   "metadata": {},
   "outputs": [
    {
     "data": {
      "text/plain": [
       "'How satisfied are you with your current job? (If you work multiple jobs, answer for the one you spend the most hours on.)'"
      ]
     },
     "execution_count": 27,
     "metadata": {},
     "output_type": "execute_result"
    }
   ],
   "source": [
    "get_description('JobSat')"
   ]
  },
  {
   "cell_type": "code",
   "execution_count": 28,
   "metadata": {},
   "outputs": [
    {
     "data": {
      "text/plain": [
       "0.2013320882508466"
      ]
     },
     "execution_count": 28,
     "metadata": {},
     "output_type": "execute_result"
    }
   ],
   "source": [
    "# what percentage of records are missing for JobSat\n",
    "df['JobSat'].isnull().mean() "
   ]
  },
  {
   "cell_type": "markdown",
   "metadata": {},
   "source": [
    "## 3. Data preparation"
   ]
  },
  {
   "cell_type": "markdown",
   "metadata": {},
   "source": [
    "Some preparation of the dataset has already been performed in creating addtional columns for the LanguageWorkedWith and DevTypes columns previously. Some addtional preparation will be performed below to answer the three questions posed at the start."
   ]
  },
  {
   "cell_type": "markdown",
   "metadata": {},
   "source": [
    "#### 3.1 Encoding selected categorical or mixed variables\n",
    "I am changing only selected columns, i.e. factors, that I judge to be very relevant for answering Q3, as I will remove the non-relevant columns before applying the machine learning model. Using the schema, I selected:"
   ]
  },
  {
   "cell_type": "code",
   "execution_count": 158,
   "metadata": {},
   "outputs": [],
   "source": [
    "factors = ['OrgSize', 'ConvertedComp', 'WorkWeekHrs', \n",
    "           'WorkPlan', 'WorkRemote', 'CodeRev', \n",
    "           'YearsCode', 'Age', 'CareerSat', 'JobSat']"
   ]
  },
  {
   "cell_type": "code",
   "execution_count": 159,
   "metadata": {},
   "outputs": [
    {
     "data": {
      "text/plain": [
       "OrgSize          float64\n",
       "ConvertedComp    float64\n",
       "WorkWeekHrs      float64\n",
       "WorkPlan         float64\n",
       "WorkRemote       float64\n",
       "CodeRev          float64\n",
       "YearsCode        float64\n",
       "Age              float64\n",
       "CareerSat        float64\n",
       "JobSat           float64\n",
       "dtype: object"
      ]
     },
     "execution_count": 159,
     "metadata": {},
     "output_type": "execute_result"
    }
   ],
   "source": [
    "df[factors].dtypes"
   ]
  },
  {
   "cell_type": "code",
   "execution_count": 151,
   "metadata": {},
   "outputs": [
    {
     "name": "stdout",
     "output_type": "stream",
     "text": [
      "OrgSize : Approximately how many people are employed by the company or organization you work for?\n",
      "ConvertedComp : Salary converted to annual USD salaries using the exchange rate on 2019-02-01, assuming 12 working months and 50 working weeks.\n",
      "WorkWeekHrs : On average, how many hours per week do you work?\n",
      "WorkPlan : How structured or planned is your work?\n",
      "WorkRemote : How often do you work remotely?\n",
      "CodeRev : Do you review code as part of your work?\n",
      "YearsCode : Including any education, how many years have you been coding?\n",
      "CareerSat : Overall, how satisfied are you with your career thus far?\n",
      "Age : What is your age (in years)? If you prefer not to answer, you may leave this question blank.\n",
      "JobSat : How satisfied are you with your current job? (If you work multiple jobs, answer for the one you spend the most hours on.)\n"
     ]
    }
   ],
   "source": [
    "for n in factors:\n",
    "    print(n, \":\",  get_description(n))"
   ]
  },
  {
   "cell_type": "code",
   "execution_count": 152,
   "metadata": {},
   "outputs": [
    {
     "name": "stdout",
     "output_type": "stream",
     "text": [
      "OrgSize : NaNs = 13648\n",
      "ConvertedComp : NaNs = 25584\n",
      "WorkWeekHrs : NaNs = 18624\n",
      "WorkPlan : NaNs = 0\n",
      "WorkRemote : NaNs = 0\n",
      "CodeRev : NaNs = 0\n",
      "YearsCode : NaNs = 0\n",
      "CareerSat : NaNs = 0\n",
      "Age : NaNs = 0\n",
      "JobSat : NaNs = 14537\n"
     ]
    }
   ],
   "source": [
    "# Check for NaN\n",
    "for n in factors:\n",
    "    print(n, \":\", \"NaNs =\", df[n].isna().sum())"
   ]
  },
  {
   "cell_type": "markdown",
   "metadata": {},
   "source": [
    "There are a lot of NaN values, so to avoid losing a lot of responses and deleting the responses, I will replace the NaN values by other values where appropriate, based on judgement."
   ]
  },
  {
   "cell_type": "code",
   "execution_count": 33,
   "metadata": {},
   "outputs": [
    {
     "data": {
      "text/plain": [
       "array([nan, '100 to 499 employees', '10,000 or more employees',\n",
       "       'Just me - I am a freelancer, sole proprietor, etc.',\n",
       "       '10 to 19 employees', '20 to 99 employees',\n",
       "       '1,000 to 4,999 employees', '2-9 employees',\n",
       "       '500 to 999 employees', '5,000 to 9,999 employees'], dtype=object)"
      ]
     },
     "execution_count": 33,
     "metadata": {},
     "output_type": "execute_result"
    }
   ],
   "source": [
    "df['OrgSize'].unique()"
   ]
  },
  {
   "cell_type": "code",
   "execution_count": 34,
   "metadata": {},
   "outputs": [],
   "source": [
    "OrgSize_codes = {'Just me - I am a freelancer, sole proprietor, etc.':0, \n",
    "                    '2-9 employees':1,\n",
    "                    '10 to 19 employees':2,\n",
    "                    '20 to 99 employees':3,\n",
    "                    '100 to 499 employees':4,\n",
    "                    '500 to 999 employees':5,\n",
    "                    '1,000 to 4,999 employees':6,\n",
    "                    '5,000 to 9,999 employees':7, \n",
    "                    '10,000 or more employees':8}\n",
    "df['OrgSize'].replace(OrgSize_codes,inplace=True);"
   ]
  },
  {
   "cell_type": "markdown",
   "metadata": {},
   "source": [
    "NaN values may represent the person not in employment, or working in more than one company. It is difficult to know what NaN is likely to be, so I will not replace the NaNs."
   ]
  },
  {
   "cell_type": "code",
   "execution_count": null,
   "metadata": {},
   "outputs": [],
   "source": []
  },
  {
   "cell_type": "code",
   "execution_count": 35,
   "metadata": {},
   "outputs": [
    {
     "data": {
      "text/plain": [
       "array([nan,\n",
       "       \"There's no schedule or spec; I work on what seems most important or urgent\",\n",
       "       'There is a schedule and/or spec (made by me or by a colleague), and I follow it very closely',\n",
       "       'There is a schedule and/or spec (made by me or by a colleague), and my work somewhat aligns'],\n",
       "      dtype=object)"
      ]
     },
     "execution_count": 35,
     "metadata": {},
     "output_type": "execute_result"
    }
   ],
   "source": [
    "df['WorkPlan'].unique()"
   ]
  },
  {
   "cell_type": "code",
   "execution_count": 36,
   "metadata": {},
   "outputs": [],
   "source": [
    "WorkPlan_codes = {\"There's no schedule or spec; I work on what seems most important or urgent\":0,\n",
    "                  'There is a schedule and/or spec (made by me or by a colleague), and my work somewhat aligns':1,\n",
    "                  'There is a schedule and/or spec (made by me or by a colleague), and I follow it very closely':2}\n",
    "df['WorkPlan'].replace(WorkPlan_codes,inplace=True);"
   ]
  },
  {
   "cell_type": "code",
   "execution_count": 37,
   "metadata": {},
   "outputs": [],
   "source": [
    "# I will take NaN to be the mean value.\n",
    "# Mean function\n",
    "df['WorkPlan'] = df['WorkPlan'].fillna(df['WorkPlan'].mean())"
   ]
  },
  {
   "cell_type": "code",
   "execution_count": null,
   "metadata": {},
   "outputs": [],
   "source": []
  },
  {
   "cell_type": "code",
   "execution_count": 38,
   "metadata": {},
   "outputs": [
    {
     "data": {
      "text/plain": [
       "array([nan, 'Less than once per month / Never', 'A few days each month',\n",
       "       \"All or almost all the time (I'm full-time remote)\",\n",
       "       'More than half, but not all, the time',\n",
       "       'Less than half the time, but at least one day each week',\n",
       "       'About half the time', \"It's complicated\"], dtype=object)"
      ]
     },
     "execution_count": 38,
     "metadata": {},
     "output_type": "execute_result"
    }
   ],
   "source": [
    "df['WorkRemote'].unique()"
   ]
  },
  {
   "cell_type": "code",
   "execution_count": 39,
   "metadata": {},
   "outputs": [],
   "source": [
    "WorkRemote_codes = {'Less than once per month / Never':0, \n",
    "                    'A few days each month':1, \n",
    "                    'Less than half the time, but at least one day each week':2,\n",
    "                    'About half the time':3,\n",
    "                    'More than half, but not all, the time':4,\n",
    "                     \"All or almost all the time (I'm full-time remote)\":5,\n",
    "                    'It\\'s complicated':3}\n",
    "df['WorkRemote'].replace(WorkRemote_codes,inplace=True);"
   ]
  },
  {
   "cell_type": "code",
   "execution_count": 40,
   "metadata": {},
   "outputs": [],
   "source": [
    "# I will take NaN to be the mean value.\n",
    "# Mean function\n",
    "df['WorkRemote'] = df['WorkRemote'].fillna(df['WorkRemote'].mean())"
   ]
  },
  {
   "cell_type": "code",
   "execution_count": null,
   "metadata": {},
   "outputs": [],
   "source": []
  },
  {
   "cell_type": "code",
   "execution_count": 41,
   "metadata": {},
   "outputs": [
    {
     "data": {
      "text/plain": [
       "array([nan, 'No', 'Yes, because I see value in code review',\n",
       "       'Yes, because I was told to do so'], dtype=object)"
      ]
     },
     "execution_count": 41,
     "metadata": {},
     "output_type": "execute_result"
    }
   ],
   "source": [
    "df['CodeRev'].unique()"
   ]
  },
  {
   "cell_type": "code",
   "execution_count": 42,
   "metadata": {},
   "outputs": [],
   "source": [
    "CodeRev_codes = {'No':0, \n",
    "                 'Yes, because I see value in code review':1, \n",
    "                 'Yes, because I was told to do so':2}\n",
    "df['CodeRev'].replace(CodeRev_codes,inplace=True);"
   ]
  },
  {
   "cell_type": "code",
   "execution_count": 43,
   "metadata": {},
   "outputs": [],
   "source": [
    "# I will take NaN to be No (i.e. zero) because I assume code review is not applicable to the respondent's work.\n",
    "df['CodeRev'] = df['CodeRev'].fillna(0)"
   ]
  },
  {
   "cell_type": "code",
   "execution_count": null,
   "metadata": {},
   "outputs": [],
   "source": []
  },
  {
   "cell_type": "code",
   "execution_count": 44,
   "metadata": {},
   "outputs": [
    {
     "data": {
      "text/plain": [
       "array(['4', nan, '3', '16', '13', '6', '8', '12', '2', '5', '17', '10',\n",
       "       '14', '35', '7', 'Less than 1 year', '30', '9', '26', '40', '19',\n",
       "       '15', '20', '28', '25', '1', '22', '11', '33', '50', '41', '18',\n",
       "       '34', '24', '23', '42', '27', '21', '36', '32', '39', '38', '31',\n",
       "       '37', 'More than 50 years', '29', '44', '45', '48', '46', '43',\n",
       "       '47', '49'], dtype=object)"
      ]
     },
     "execution_count": 44,
     "metadata": {},
     "output_type": "execute_result"
    }
   ],
   "source": [
    "df['YearsCode'].unique()"
   ]
  },
  {
   "cell_type": "code",
   "execution_count": 45,
   "metadata": {},
   "outputs": [],
   "source": [
    "# mixed numerical / categorical, so I will replace the categorical data by numerical responses\n",
    "YearsCode_codes = {'Less than 1 year':0, 'More than 50 years':51}  # Not replacing the NaNs\n",
    "df['YearsCode'].replace(YearsCode_codes,inplace=True);"
   ]
  },
  {
   "cell_type": "code",
   "execution_count": 49,
   "metadata": {},
   "outputs": [],
   "source": [
    "# CONVERT OBJECT DATA TO FLOAT\n",
    "df['YearsCode'] = df['YearsCode'].astype(float)"
   ]
  },
  {
   "cell_type": "code",
   "execution_count": 50,
   "metadata": {},
   "outputs": [],
   "source": [
    "# I will take NaN to be the mean value.\n",
    "# Mean function\n",
    "df['YearsCode'] = df['YearsCode'].fillna(df['YearsCode'].mean())"
   ]
  },
  {
   "cell_type": "code",
   "execution_count": null,
   "metadata": {},
   "outputs": [],
   "source": []
  },
  {
   "cell_type": "code",
   "execution_count": 51,
   "metadata": {},
   "outputs": [
    {
     "data": {
      "text/plain": [
       "array([nan, 'Slightly satisfied', 'Very satisfied', 'Very dissatisfied',\n",
       "       'Slightly dissatisfied', 'Neither satisfied nor dissatisfied'],\n",
       "      dtype=object)"
      ]
     },
     "execution_count": 51,
     "metadata": {},
     "output_type": "execute_result"
    }
   ],
   "source": [
    "df['CareerSat'].unique()"
   ]
  },
  {
   "cell_type": "code",
   "execution_count": 52,
   "metadata": {},
   "outputs": [],
   "source": [
    "CareerSat_codes = {'Very dissatisfied':0, \n",
    "                   'Slightly dissatisfied':1, \n",
    "                   'Neither satisfied nor dissatisfied':2, \n",
    "                   'Slightly satisfied':3, \n",
    "                   'Very satisfied':4}\n",
    "df['CareerSat'].replace(CareerSat_codes,inplace=True);"
   ]
  },
  {
   "cell_type": "code",
   "execution_count": 53,
   "metadata": {},
   "outputs": [],
   "source": [
    "# I will take NaN to be the mean value.\n",
    "# Mean function\n",
    "df['CareerSat'] = df['CareerSat'].fillna(df['CareerSat'].mean())"
   ]
  },
  {
   "cell_type": "markdown",
   "metadata": {},
   "source": [
    "JobSat is the target variable"
   ]
  },
  {
   "cell_type": "code",
   "execution_count": null,
   "metadata": {},
   "outputs": [],
   "source": []
  },
  {
   "cell_type": "code",
   "execution_count": 54,
   "metadata": {},
   "outputs": [
    {
     "data": {
      "text/plain": [
       "array([nan, 'Slightly satisfied', 'Slightly dissatisfied',\n",
       "       'Neither satisfied nor dissatisfied', 'Very satisfied',\n",
       "       'Very dissatisfied'], dtype=object)"
      ]
     },
     "execution_count": 54,
     "metadata": {},
     "output_type": "execute_result"
    }
   ],
   "source": [
    "df['JobSat'].unique()"
   ]
  },
  {
   "cell_type": "code",
   "execution_count": 55,
   "metadata": {},
   "outputs": [],
   "source": [
    "JobSat_codes = {'Very dissatisfied':0, \n",
    "                'Slightly dissatisfied':1, \n",
    "                'Neither satisfied nor dissatisfied':2, \n",
    "                'Slightly satisfied':3, \n",
    "                'Very satisfied':4}\n",
    "df['JobSat'].replace(JobSat_codes,inplace=True);"
   ]
  },
  {
   "cell_type": "markdown",
   "metadata": {},
   "source": [
    "#### 3.2 Working hours"
   ]
  },
  {
   "cell_type": "markdown",
   "metadata": {},
   "source": [
    "Examining the data for the column WorkWeekHrs."
   ]
  },
  {
   "cell_type": "code",
   "execution_count": 56,
   "metadata": {},
   "outputs": [
    {
     "data": {
      "text/plain": [
       "'On average, how many hours per week do you work?'"
      ]
     },
     "execution_count": 56,
     "metadata": {},
     "output_type": "execute_result"
    }
   ],
   "source": [
    "get_description('WorkWeekHrs')"
   ]
  },
  {
   "cell_type": "code",
   "execution_count": 57,
   "metadata": {},
   "outputs": [
    {
     "data": {
      "text/plain": [
       "count    64503.000000\n",
       "mean        42.127197\n",
       "std         37.287610\n",
       "min          1.000000\n",
       "25%         40.000000\n",
       "50%         40.000000\n",
       "75%         44.750000\n",
       "max       4850.000000\n",
       "Name: WorkWeekHrs, dtype: float64"
      ]
     },
     "execution_count": 57,
     "metadata": {},
     "output_type": "execute_result"
    }
   ],
   "source": [
    "df['WorkWeekHrs'].describe()"
   ]
  },
  {
   "cell_type": "markdown",
   "metadata": {},
   "source": [
    "There are invalid entries (the max value is above the total number of hours in a week). So I will check the outliers."
   ]
  },
  {
   "cell_type": "code",
   "execution_count": 58,
   "metadata": {
    "scrolled": true
   },
   "outputs": [],
   "source": [
    "filtered_WorkWeekHrs = df['WorkWeekHrs'][~np.isnan(df['WorkWeekHrs'])]"
   ]
  },
  {
   "cell_type": "code",
   "execution_count": 59,
   "metadata": {},
   "outputs": [
    {
     "data": {
      "image/png": "[encoded data removed]",
      "text/plain": [
       "<Figure size 360x360 with 1 Axes>"
      ]
     },
     "metadata": {
      "needs_background": "light"
     },
     "output_type": "display_data"
    }
   ],
   "source": [
    "red_square = dict(markerfacecolor='r', marker='s')\n",
    "fig, ax = plt.subplots(figsize=(5,5))\n",
    "ax.set_title('WorkWeekHrs')\n",
    "ax.boxplot(filtered_WorkWeekHrs, flierprops=red_square);"
   ]
  },
  {
   "cell_type": "code",
   "execution_count": 60,
   "metadata": {
    "scrolled": true
   },
   "outputs": [
    {
     "data": {
      "image/png": "[encoded data removed]",
      "text/plain": [
       "<Figure size 432x288 with 1 Axes>"
      ]
     },
     "metadata": {
      "needs_background": "light"
     },
     "output_type": "display_data"
    }
   ],
   "source": [
    "plt.hist(filtered_WorkWeekHrs, color = 'blue', edgecolor = 'black', bins = 30, range = [0, 168]);"
   ]
  },
  {
   "cell_type": "markdown",
   "metadata": {},
   "source": [
    "From the plot above, almost all records have a value of 100 working hours or less per week, so I will remove rows above 100. I assume these are not reliable. "
   ]
  },
  {
   "cell_type": "code",
   "execution_count": 61,
   "metadata": {},
   "outputs": [
    {
     "data": {
      "text/plain": [
       "(88364, 136)"
      ]
     },
     "execution_count": 61,
     "metadata": {},
     "output_type": "execute_result"
    }
   ],
   "source": [
    "df = df[~(df.WorkWeekHrs > 100)]\n",
    "df.shape"
   ]
  },
  {
   "cell_type": "markdown",
   "metadata": {},
   "source": [
    "Not many records lost, so the removal was an acceptable loss of data."
   ]
  },
  {
   "cell_type": "markdown",
   "metadata": {},
   "source": [
    "#### 3.3 Compensation"
   ]
  },
  {
   "cell_type": "code",
   "execution_count": 138,
   "metadata": {
    "scrolled": true
   },
   "outputs": [
    {
     "data": {
      "image/png": "[encoded data removed]",
      "text/plain": [
       "<Figure size 432x288 with 1 Axes>"
      ]
     },
     "metadata": {
      "needs_background": "light"
     },
     "output_type": "display_data"
    }
   ],
   "source": [
    "# CompTotal HAS LARGE STD SO CHECK THE OUTLIERS\n",
    "filtered_ConvertedComp = df['ConvertedComp'][~np.isnan(df['ConvertedComp'])]\n",
    "plt.hist(filtered_ConvertedComp, color = 'blue', edgecolor = 'black', bins =150);"
   ]
  },
  {
   "cell_type": "markdown",
   "metadata": {},
   "source": [
    "From the graph we can see there are anomalies 1000000 and 2000000. However, it is not obvious which records are the outliers or errors. \n",
    "Therefore I will not remove any of the data records from ConvertedComp."
   ]
  },
  {
   "cell_type": "markdown",
   "metadata": {},
   "source": [
    "#### 3.4 Age"
   ]
  },
  {
   "cell_type": "code",
   "execution_count": 140,
   "metadata": {},
   "outputs": [
    {
     "data": {
      "image/png": "[encoded data removed]",
      "text/plain": [
       "<Figure size 432x288 with 1 Axes>"
      ]
     },
     "metadata": {
      "needs_background": "light"
     },
     "output_type": "display_data"
    }
   ],
   "source": [
    "filtered_Age = df['Age'][~np.isnan(df['Age'])]\n",
    "plt.hist(filtered_Age, color = 'blue', edgecolor = 'black', bins=50);"
   ]
  },
  {
   "cell_type": "markdown",
   "metadata": {},
   "source": [
    "From the graph, there are outliers, near 0 and 100. These are highly improbable, so are likely to be invalid values. I will remove these."
   ]
  },
  {
   "cell_type": "code",
   "execution_count": 148,
   "metadata": {},
   "outputs": [
    {
     "data": {
      "text/plain": [
       "(78647, 136)"
      ]
     },
     "execution_count": 148,
     "metadata": {},
     "output_type": "execute_result"
    }
   ],
   "source": [
    "df = df[df.Age > 10]\n",
    "df = df[df.Age < 80]\n",
    "df.shape"
   ]
  },
  {
   "cell_type": "code",
   "execution_count": 153,
   "metadata": {},
   "outputs": [],
   "source": [
    "# For the NaNs, I will replace with the mean\n",
    "df['Age'] = df['Age'].fillna(df['Age'].mean())"
   ]
  },
  {
   "cell_type": "code",
   "execution_count": null,
   "metadata": {},
   "outputs": [],
   "source": []
  },
  {
   "cell_type": "markdown",
   "metadata": {},
   "source": [
    "#### 3.5 Overall view of the numerical variables"
   ]
  },
  {
   "cell_type": "code",
   "execution_count": 154,
   "metadata": {},
   "outputs": [],
   "source": [
    "df_numeric = df.copy()"
   ]
  },
  {
   "cell_type": "code",
   "execution_count": 155,
   "metadata": {},
   "outputs": [],
   "source": [
    "df_numeric = df_numeric[factors] # factors was defined earlier"
   ]
  },
  {
   "cell_type": "code",
   "execution_count": 156,
   "metadata": {},
   "outputs": [],
   "source": [
    "# dropping any remaining NaNs \n",
    "df_numeric.dropna(inplace=True)"
   ]
  },
  {
   "cell_type": "code",
   "execution_count": 157,
   "metadata": {},
   "outputs": [
    {
     "data": {
      "image/png": "[encoded data removed]",
      "text/plain": [
       "<Figure size 936x720 with 12 Axes>"
      ]
     },
     "metadata": {
      "needs_background": "light"
     },
     "output_type": "display_data"
    }
   ],
   "source": [
    "df_numeric.hist(figsize = (13,10), bins = 30);"
   ]
  },
  {
   "cell_type": "markdown",
   "metadata": {},
   "source": [
    "## 4. Data evaluation"
   ]
  },
  {
   "cell_type": "markdown",
   "metadata": {},
   "source": [
    "### Q1. In Western Europe, is there a link between what languages you work with and earning a higher income?"
   ]
  },
  {
   "cell_type": "markdown",
   "metadata": {},
   "source": [
    "I will use only responses from Western Europe. I will compare the languages used by the top 10% of earners from Western Europe with the languages used by the respondents as a whole from Western Europe."
   ]
  },
  {
   "cell_type": "code",
   "execution_count": 152,
   "metadata": {},
   "outputs": [],
   "source": [
    "# create dataframe containing only relevant columns (ConvertedComp and each of the columns created for languages)\n",
    "df2 = df.copy()"
   ]
  },
  {
   "cell_type": "code",
   "execution_count": 153,
   "metadata": {},
   "outputs": [],
   "source": [
    "# Drop rows where ConvertedComp is NaN\n",
    "df2 = df2.dropna(subset=['ConvertedComp'], how='any')"
   ]
  },
  {
   "cell_type": "code",
   "execution_count": 154,
   "metadata": {},
   "outputs": [
    {
     "data": {
      "text/plain": [
       "(55380, 136)"
      ]
     },
     "execution_count": 154,
     "metadata": {},
     "output_type": "execute_result"
    }
   ],
   "source": [
    "df2.shape"
   ]
  },
  {
   "cell_type": "code",
   "execution_count": 155,
   "metadata": {},
   "outputs": [],
   "source": [
    "# Drop rows where the respondent is not from Western Europe\n",
    "df2['WEurope'] = df2[\"Country\"].apply(in_w_europe)\n",
    "df2 = df2[df2.WEurope == 1]"
   ]
  },
  {
   "cell_type": "code",
   "execution_count": 156,
   "metadata": {},
   "outputs": [
    {
     "data": {
      "text/plain": [
       "(17533, 136)"
      ]
     },
     "execution_count": 156,
     "metadata": {},
     "output_type": "execute_result"
    }
   ],
   "source": [
    "# Drop Western Europe column as no longer needed\n",
    "df2.drop(['WEurope'], axis=1, inplace = True)\n",
    "df2.shape"
   ]
  },
  {
   "cell_type": "code",
   "execution_count": 157,
   "metadata": {},
   "outputs": [
    {
     "name": "stdout",
     "output_type": "stream",
     "text": [
      "0 Respondent\n",
      "1 MainBranch\n",
      "2 Hobbyist\n",
      "3 OpenSourcer\n",
      "4 OpenSource\n",
      "5 Employment\n",
      "6 Country\n",
      "7 Student\n",
      "8 EdLevel\n",
      "9 UndergradMajor\n",
      "10 EduOther\n",
      "11 OrgSize\n",
      "12 YearsCode\n",
      "13 Age1stCode\n",
      "14 YearsCodePro\n",
      "15 CareerSat\n",
      "16 JobSat\n",
      "17 MgrIdiot\n",
      "18 MgrMoney\n",
      "19 MgrWant\n",
      "20 JobSeek\n",
      "21 LastHireDate\n",
      "22 LastInt\n",
      "23 FizzBuzz\n",
      "24 JobFactors\n",
      "25 ResumeUpdate\n",
      "26 CurrencySymbol\n",
      "27 CurrencyDesc\n",
      "28 CompTotal\n",
      "29 CompFreq\n",
      "30 ConvertedComp\n",
      "31 WorkWeekHrs\n",
      "32 WorkPlan\n",
      "33 WorkChallenge\n",
      "34 WorkRemote\n",
      "35 WorkLoc\n",
      "36 ImpSyn\n",
      "37 CodeRev\n",
      "38 CodeRevHrs\n",
      "39 UnitTests\n",
      "40 PurchaseHow\n",
      "41 PurchaseWhat\n",
      "42 LanguageDesireNextYear\n",
      "43 DatabaseWorkedWith\n",
      "44 DatabaseDesireNextYear\n",
      "45 PlatformWorkedWith\n",
      "46 PlatformDesireNextYear\n",
      "47 WebFrameWorkedWith\n",
      "48 WebFrameDesireNextYear\n",
      "49 MiscTechWorkedWith\n",
      "50 MiscTechDesireNextYear\n",
      "51 DevEnviron\n",
      "52 OpSys\n",
      "53 Containers\n",
      "54 BlockchainOrg\n",
      "55 BlockchainIs\n",
      "56 BetterLife\n",
      "57 ITperson\n",
      "58 OffOn\n",
      "59 SocialMedia\n",
      "60 Extraversion\n",
      "61 ScreenName\n",
      "62 SOVisit1st\n",
      "63 SOVisitFreq\n",
      "64 SOVisitTo\n",
      "65 SOFindAnswer\n",
      "66 SOTimeSaved\n",
      "67 SOHowMuchTime\n",
      "68 SOAccount\n",
      "69 SOPartFreq\n",
      "70 SOJobs\n",
      "71 EntTeams\n",
      "72 SOComm\n",
      "73 WelcomeChange\n",
      "74 SONewContent\n",
      "75 Age\n",
      "76 Gender\n",
      "77 Trans\n",
      "78 Sexuality\n",
      "79 Ethnicity\n",
      "80 Dependents\n",
      "81 SurveyLength\n",
      "82 SurveyEase\n",
      "83 Assembly\n",
      "84 Bash/Shell/PowerShell\n",
      "85 C\n",
      "86 C++\n",
      "87 C#\n",
      "88 Clojure\n",
      "89 Dart\n",
      "90 Elixir\n",
      "91 Erlang\n",
      "92 F#\n",
      "93 Go\n",
      "94 HTML/CSS\n",
      "95 Java\n",
      "96 JavaScript\n",
      "97 Kotlin\n",
      "98 Objective-C\n",
      "99 PHP\n",
      "100 Python\n",
      "101 R\n",
      "102 Ruby\n",
      "103 Rust\n",
      "104 Scala\n",
      "105 SQL\n",
      "106 Swift\n",
      "107 TypeScript\n",
      "108 VBA\n",
      "109 WebAssembly\n",
      "110 Other(s)\n",
      "111 Academic_Researcher\n",
      "112 Data or business analyst\n",
      "113 Data scientist or machine learning specialist\n",
      "114 Database administrator\n",
      "115 Designer\n",
      "116 Developer, back-end\n",
      "117 Developer, desktop or enterprise applications\n",
      "118 Developer, embedded applications or devices\n",
      "119 Developer, front-end\n",
      "120 Developer, full-stack\n",
      "121 Developer, game or graphics\n",
      "122 Developer, mobile\n",
      "123 Developer, QA or test\n",
      "124 DevOps specialist\n",
      "125 Educator\n",
      "126 Engineer, data\n",
      "127 Engineer, site reliability\n",
      "128 Engineering manager\n",
      "129 Marketing or sales professional\n",
      "130 Product manager\n",
      "131 Scientist\n",
      "132 Senior executive/VP\n",
      "133 DevType Student\n",
      "134 System administrator\n",
      "135 Other\n"
     ]
    }
   ],
   "source": [
    "# find relevant columns\n",
    "l = df2.columns\n",
    "for number, item in enumerate(l):\n",
    "  print(number, item)"
   ]
  },
  {
   "cell_type": "code",
   "execution_count": 158,
   "metadata": {},
   "outputs": [],
   "source": [
    "df3 = df2.iloc[:, df.columns.get_loc('Assembly'):df.columns.get_loc('Other(s)')+1]\n",
    "df3['ConvertedComp'] = df2['ConvertedComp']"
   ]
  },
  {
   "cell_type": "code",
   "execution_count": 159,
   "metadata": {},
   "outputs": [],
   "source": [
    "top10pc = int(len(df3)*0.1)\n",
    "df3_top10pc = df3.nlargest(top10pc, 'ConvertedComp')"
   ]
  },
  {
   "cell_type": "code",
   "execution_count": 160,
   "metadata": {},
   "outputs": [
    {
     "data": {
      "text/plain": [
       "count    1.753000e+03\n",
       "mean     6.368382e+05\n",
       "std      2.727958e+05\n",
       "min      1.836670e+05\n",
       "25%      4.124640e+05\n",
       "50%      6.280680e+05\n",
       "75%      8.673840e+05\n",
       "max      2.000000e+06\n",
       "Name: ConvertedComp, dtype: float64"
      ]
     },
     "execution_count": 160,
     "metadata": {},
     "output_type": "execute_result"
    }
   ],
   "source": [
    "df3_top10pc['ConvertedComp'].describe()"
   ]
  },
  {
   "cell_type": "code",
   "execution_count": 161,
   "metadata": {},
   "outputs": [
    {
     "data": {
      "text/plain": [
       "count    1.753300e+04\n",
       "mean     1.168034e+05\n",
       "std      1.959089e+05\n",
       "min      0.000000e+00\n",
       "25%      4.010100e+04\n",
       "50%      5.757300e+04\n",
       "75%      8.570500e+04\n",
       "max      2.000000e+06\n",
       "Name: ConvertedComp, dtype: float64"
      ]
     },
     "execution_count": 161,
     "metadata": {},
     "output_type": "execute_result"
    }
   ],
   "source": [
    "df3['ConvertedComp'].describe()"
   ]
  },
  {
   "cell_type": "markdown",
   "metadata": {},
   "source": [
    "The Top 10% in Western Europe each earn \\\\$183,667 or more per annum, with an mean of \\\\$636,382, and a median of \\\\$628,068 compared with an mean income for the region overall of \\\\$116,803, and a median of \\\\$57,573."
   ]
  },
  {
   "cell_type": "code",
   "execution_count": 162,
   "metadata": {},
   "outputs": [],
   "source": [
    "# Prepare data for plot\n",
    "DevTypes = df3.sum()\n",
    "DevTypes = DevTypes.drop(DevTypes.index[-1]) # get rid of ConvertedComp column header\n",
    "DevTypes = DevTypes / len(df3)\n",
    "DevTypes = DevTypes.sort_values() * 100\n",
    "\n",
    "DevTypes10 = df3_top10pc.sum()\n",
    "DevTypes10 = DevTypes10.drop(DevTypes10.index[-1]) # get rid of ConvertedComp column header\n",
    "DevTypes10 = DevTypes10 / len(df3_top10pc)\n",
    "DevTypes10 = DevTypes10.sort_values() * 100"
   ]
  },
  {
   "cell_type": "code",
   "execution_count": 163,
   "metadata": {},
   "outputs": [
    {
     "data": {
      "image/png": "[encoded data removed]",
      "text/plain": [
       "<Figure size 720x720 with 1 Axes>"
      ]
     },
     "metadata": {
      "needs_background": "light"
     },
     "output_type": "display_data"
    }
   ],
   "source": [
    "dfplot = pd.DataFrame({'Top 10% of income': DevTypes10, 'All Western Europe': DevTypes}, index=DevTypes.index)\n",
    "ax = dfplot.plot(kind=\"barh\",figsize=(10,10));\n",
    "plt.title(\"Languages used by % of developers in Western Europe\");"
   ]
  },
  {
   "cell_type": "markdown",
   "metadata": {},
   "source": [
    "**Answer to Q1**\n",
    "In Western Europe, the language profile of the Top 10% earners is very similar to that of all earners in the region; the data does not show that earning a high income in Western Europe is a result of working more on particular languages compared with peers."
   ]
  },
  {
   "cell_type": "markdown",
   "metadata": {},
   "source": [
    "## Q2. Which developer types have the longest working hours per week?"
   ]
  },
  {
   "cell_type": "markdown",
   "metadata": {},
   "source": [
    "For this question, I will include responses from the whole world, not just Western Europe."
   ]
  },
  {
   "cell_type": "code",
   "execution_count": 164,
   "metadata": {},
   "outputs": [],
   "source": [
    "df4 = df.copy()"
   ]
  },
  {
   "cell_type": "code",
   "execution_count": 166,
   "metadata": {},
   "outputs": [],
   "source": [
    "# Drop rows where WorkWeekHrs is NaN or where there are no people in that type of developer category\n",
    "df4 = df4.dropna(subset=['WorkWeekHrs'], how='any')"
   ]
  },
  {
   "cell_type": "code",
   "execution_count": 167,
   "metadata": {},
   "outputs": [
    {
     "data": {
      "text/plain": [
       "Academic_Researcher                               3843.0\n",
       "Data or business analyst                          4834.0\n",
       "Data scientist or machine learning specialist     4841.0\n",
       "Database administrator                            7586.0\n",
       "Designer                                          6409.0\n",
       "Developer, back-end                              32735.0\n",
       "Developer, desktop or enterprise applications    13788.0\n",
       "Developer, embedded applications or devices       5567.0\n",
       "Developer, front-end                             20955.0\n",
       "Developer, full-stack                            34836.0\n",
       "Developer, game or graphics                       2834.0\n",
       "Developer, mobile                                11127.0\n",
       "Developer, QA or test                             5271.0\n",
       "DevOps specialist                                 7738.0\n",
       "Educator                                          3181.0\n",
       "Engineer, data                                    4623.0\n",
       "Engineer, site reliability                        2411.0\n",
       "Engineering manager                               3329.0\n",
       "Marketing or sales professional                    546.0\n",
       "Product manager                                   3083.0\n",
       "Scientist                                         2565.0\n",
       "Senior executive/VP                               1577.0\n",
       "DevType Student                                   4449.0\n",
       "System administrator                              6862.0\n",
       "Other                                                0.0\n",
       "dtype: float64"
      ]
     },
     "execution_count": 167,
     "metadata": {},
     "output_type": "execute_result"
    }
   ],
   "source": [
    "df4.iloc[:,df4.columns.get_loc('Academic_Researcher'):].sum()"
   ]
  },
  {
   "cell_type": "code",
   "execution_count": 168,
   "metadata": {},
   "outputs": [],
   "source": [
    "df4.drop(['Other'], axis=1, inplace = True)"
   ]
  },
  {
   "cell_type": "code",
   "execution_count": 169,
   "metadata": {},
   "outputs": [],
   "source": [
    "l = df4.columns"
   ]
  },
  {
   "cell_type": "code",
   "execution_count": 170,
   "metadata": {},
   "outputs": [],
   "source": [
    "devtypecols = l[df.columns.get_loc('Academic_Researcher'):df.columns.get_loc('Other')+1]"
   ]
  },
  {
   "cell_type": "code",
   "execution_count": 171,
   "metadata": {},
   "outputs": [],
   "source": [
    "hoursfordev = []\n",
    "for developer in devtypecols:\n",
    "    temp = df4[df4[developer] == 1]['WorkWeekHrs'].mean()\n",
    "    hoursfordev.append(temp)"
   ]
  },
  {
   "cell_type": "code",
   "execution_count": 172,
   "metadata": {},
   "outputs": [
    {
     "data": {
      "image/png": "[encoded data removed]",
      "text/plain": [
       "<Figure size 1080x1080 with 1 Axes>"
      ]
     },
     "metadata": {
      "needs_background": "light"
     },
     "output_type": "display_data"
    }
   ],
   "source": [
    "dfDT = pd.DataFrame(hoursfordev)\n",
    "dfDT = dfDT.T\n",
    "dfDT.columns = l[df4.columns.get_loc('Academic_Researcher'):]\n",
    "dfDT = dfDT.squeeze()\n",
    "\n",
    "dfDT.sort_values().plot(kind=\"barh\",figsize=(15,15));\n",
    "plt.title(\"Mean working hours / week\");"
   ]
  },
  {
   "cell_type": "markdown",
   "metadata": {},
   "source": [
    "**Answer to Q2** From the above chart, Senior executives and other managers work slightly longer hours per week than other developer types, although there is not a significant difference, apart from students, who unsurprisingly work fewer hours than others. Most people work just over 40 hours per week."
   ]
  },
  {
   "cell_type": "markdown",
   "metadata": {},
   "source": [
    "### Q3. What are the most important factors associated with job satisfaction?"
   ]
  },
  {
   "cell_type": "markdown",
   "metadata": {},
   "source": [
    "This will be investigated using a linear regression model, with ridge penalties."
   ]
  },
  {
   "cell_type": "code",
   "execution_count": 162,
   "metadata": {},
   "outputs": [],
   "source": [
    "# Build a dataframe with only the relevant factors\n",
    "df5 = df.copy()"
   ]
  },
  {
   "cell_type": "code",
   "execution_count": 163,
   "metadata": {},
   "outputs": [],
   "source": [
    "l = df.columns\n",
    "devtypecols = l[df.columns.get_loc('Academic_Researcher'):\n",
    "                df.columns.get_loc('Other')].tolist()  #excluding 'Other' because no-one belonged in this category.\n"
   ]
  },
  {
   "cell_type": "code",
   "execution_count": 164,
   "metadata": {},
   "outputs": [],
   "source": [
    "relev_factors = devtypecols + ['OrgSize', 'ConvertedComp', 'WorkWeekHrs', \n",
    "                               'WorkPlan', 'WorkRemote', 'CodeRev', \n",
    "                               'YearsCode', 'Age', 'CareerSat', 'JobSat']"
   ]
  },
  {
   "cell_type": "code",
   "execution_count": 165,
   "metadata": {},
   "outputs": [],
   "source": [
    "df5 = df5[relev_factors]"
   ]
  },
  {
   "cell_type": "code",
   "execution_count": 166,
   "metadata": {},
   "outputs": [
    {
     "data": {
      "text/plain": [
       "(78647, 34)"
      ]
     },
     "execution_count": 166,
     "metadata": {},
     "output_type": "execute_result"
    }
   ],
   "source": [
    "df5.shape"
   ]
  },
  {
   "cell_type": "code",
   "execution_count": 167,
   "metadata": {},
   "outputs": [],
   "source": [
    "# dropping rows with NaN\n",
    "df5 = df5.dropna(how='any')"
   ]
  },
  {
   "cell_type": "code",
   "execution_count": 168,
   "metadata": {},
   "outputs": [
    {
     "data": {
      "text/plain": [
       "(51211, 34)"
      ]
     },
     "execution_count": 168,
     "metadata": {},
     "output_type": "execute_result"
    }
   ],
   "source": [
    "df5.shape"
   ]
  },
  {
   "cell_type": "code",
   "execution_count": 169,
   "metadata": {},
   "outputs": [],
   "source": [
    "# after dropping the NaN rows, there is still a fair amount of records remaining"
   ]
  },
  {
   "cell_type": "code",
   "execution_count": 185,
   "metadata": {},
   "outputs": [],
   "source": [
    "# Build linear model\n",
    "# Split data into explanatory and response variables\n",
    "X = df5[devtypecols + ['OrgSize', 'ConvertedComp', 'WorkWeekHrs', \n",
    "                        'WorkPlan', 'WorkRemote', 'CodeRev', \n",
    "                        'YearsCode', 'Age', 'CareerSat']]\n",
    "y = df5['JobSat']"
   ]
  },
  {
   "cell_type": "code",
   "execution_count": 186,
   "metadata": {},
   "outputs": [],
   "source": [
    "# Split into train and test\n",
    "X_train, X_test, y_train, y_test = train_test_split(X, y, test_size=0.3, random_state=99)"
   ]
  },
  {
   "cell_type": "code",
   "execution_count": 187,
   "metadata": {},
   "outputs": [],
   "source": [
    "#fit the model and obtain pred response\n",
    "model = LinearRegression(normalize=True)\n",
    "model.fit(X_train, y_train)\n",
    "y_test_preds = model.predict(X_test)\n",
    "y_train_preds = model.predict(X_train)"
   ]
  },
  {
   "cell_type": "code",
   "execution_count": 188,
   "metadata": {},
   "outputs": [],
   "source": [
    "#Score using model\n",
    "test_score = r2_score(y_test, y_test_preds)\n",
    "train_score = r2_score(y_train, y_train_preds)"
   ]
  },
  {
   "cell_type": "code",
   "execution_count": 189,
   "metadata": {},
   "outputs": [
    {
     "name": "stdout",
     "output_type": "stream",
     "text": [
      "test_score =  0.40425321829879335\n",
      "train_score =  0.40051860472496437\n"
     ]
    }
   ],
   "source": [
    "print('test_score = ', test_score)\n",
    "print('train_score = ', train_score)"
   ]
  },
  {
   "cell_type": "code",
   "execution_count": null,
   "metadata": {},
   "outputs": [],
   "source": []
  },
  {
   "cell_type": "code",
   "execution_count": 190,
   "metadata": {},
   "outputs": [],
   "source": [
    "# Look at coefficients of linear regression to see which of the factors are the most important for Job Satisfaction\n",
    "# ----------------------------------------------------------------------------------------------------------------\n",
    "\n",
    "# The default penalty on coefficients using linear regression in sklearn is a ridge (also known as an L2) penalty. \n",
    "# Because of this penalty, and that all the variables were normalized, \n",
    "# we can look at the size of the coefficients in the model as an indication of the impact of each variable on the salary. \n",
    "# The larger the coefficient, the larger the expected impact on salary.\n",
    "\n",
    "def coef_weights(coefficients, X_train):\n",
    "    '''\n",
    "    INPUT:\n",
    "    coefficients - the coefficients of the linear model \n",
    "    X_train - the training data, so the column names can be used\n",
    "    OUTPUT:\n",
    "    coefs_df - a dataframe holding the coefficient, estimate, and abs(estimate)\n",
    "    \n",
    "    Provides a dataframe that can be used to understand the most influential coefficients\n",
    "    in a linear model by providing the coefficient estimates along with the name of the \n",
    "    variable attached to the coefficient.\n",
    "    '''\n",
    "    coefs_df = pd.DataFrame()\n",
    "    coefs_df['est_int'] = X_train.columns\n",
    "    coefs_df['coefs'] = model.coef_\n",
    "    coefs_df['abs_coefs'] = np.abs(model.coef_)\n",
    "    coefs_df = coefs_df.sort_values('abs_coefs', ascending=False)\n",
    "    return coefs_df"
   ]
  },
  {
   "cell_type": "code",
   "execution_count": 196,
   "metadata": {},
   "outputs": [
    {
     "data": {
      "text/html": [
       "<div>\n",
       "<style scoped>\n",
       "    .dataframe tbody tr th:only-of-type {\n",
       "        vertical-align: middle;\n",
       "    }\n",
       "\n",
       "    .dataframe tbody tr th {\n",
       "        vertical-align: top;\n",
       "    }\n",
       "\n",
       "    .dataframe thead th {\n",
       "        text-align: right;\n",
       "    }\n",
       "</style>\n",
       "<table border=\"1\" class=\"dataframe\">\n",
       "  <thead>\n",
       "    <tr style=\"text-align: right;\">\n",
       "      <th></th>\n",
       "      <th>est_int</th>\n",
       "      <th>coefs</th>\n",
       "      <th>abs_coefs</th>\n",
       "    </tr>\n",
       "  </thead>\n",
       "  <tbody>\n",
       "    <tr>\n",
       "      <th>32</th>\n",
       "      <td>CareerSat</td>\n",
       "      <td>6.799915e-01</td>\n",
       "      <td>6.799915e-01</td>\n",
       "    </tr>\n",
       "    <tr>\n",
       "      <th>21</th>\n",
       "      <td>Senior executive/VP</td>\n",
       "      <td>1.689543e-01</td>\n",
       "      <td>1.689543e-01</td>\n",
       "    </tr>\n",
       "    <tr>\n",
       "      <th>20</th>\n",
       "      <td>Scientist</td>\n",
       "      <td>9.192381e-02</td>\n",
       "      <td>9.192381e-02</td>\n",
       "    </tr>\n",
       "    <tr>\n",
       "      <th>27</th>\n",
       "      <td>WorkPlan</td>\n",
       "      <td>8.740671e-02</td>\n",
       "      <td>8.740671e-02</td>\n",
       "    </tr>\n",
       "    <tr>\n",
       "      <th>17</th>\n",
       "      <td>Engineering manager</td>\n",
       "      <td>-8.271827e-02</td>\n",
       "      <td>8.271827e-02</td>\n",
       "    </tr>\n",
       "    <tr>\n",
       "      <th>6</th>\n",
       "      <td>Developer, desktop or enterprise applications</td>\n",
       "      <td>-4.901772e-02</td>\n",
       "      <td>4.901772e-02</td>\n",
       "    </tr>\n",
       "    <tr>\n",
       "      <th>19</th>\n",
       "      <td>Product manager</td>\n",
       "      <td>-4.887747e-02</td>\n",
       "      <td>4.887747e-02</td>\n",
       "    </tr>\n",
       "    <tr>\n",
       "      <th>9</th>\n",
       "      <td>Developer, full-stack</td>\n",
       "      <td>-4.631098e-02</td>\n",
       "      <td>4.631098e-02</td>\n",
       "    </tr>\n",
       "    <tr>\n",
       "      <th>11</th>\n",
       "      <td>Developer, mobile</td>\n",
       "      <td>-4.489786e-02</td>\n",
       "      <td>4.489786e-02</td>\n",
       "    </tr>\n",
       "    <tr>\n",
       "      <th>0</th>\n",
       "      <td>Academic_Researcher</td>\n",
       "      <td>4.107340e-02</td>\n",
       "      <td>4.107340e-02</td>\n",
       "    </tr>\n",
       "    <tr>\n",
       "      <th>5</th>\n",
       "      <td>Developer, back-end</td>\n",
       "      <td>-3.753091e-02</td>\n",
       "      <td>3.753091e-02</td>\n",
       "    </tr>\n",
       "    <tr>\n",
       "      <th>7</th>\n",
       "      <td>Developer, embedded applications or devices</td>\n",
       "      <td>3.629623e-02</td>\n",
       "      <td>3.629623e-02</td>\n",
       "    </tr>\n",
       "    <tr>\n",
       "      <th>22</th>\n",
       "      <td>DevType Student</td>\n",
       "      <td>3.518219e-02</td>\n",
       "      <td>3.518219e-02</td>\n",
       "    </tr>\n",
       "    <tr>\n",
       "      <th>10</th>\n",
       "      <td>Developer, game or graphics</td>\n",
       "      <td>2.628795e-02</td>\n",
       "      <td>2.628795e-02</td>\n",
       "    </tr>\n",
       "    <tr>\n",
       "      <th>3</th>\n",
       "      <td>Database administrator</td>\n",
       "      <td>2.593149e-02</td>\n",
       "      <td>2.593149e-02</td>\n",
       "    </tr>\n",
       "    <tr>\n",
       "      <th>8</th>\n",
       "      <td>Developer, front-end</td>\n",
       "      <td>2.535911e-02</td>\n",
       "      <td>2.535911e-02</td>\n",
       "    </tr>\n",
       "    <tr>\n",
       "      <th>23</th>\n",
       "      <td>System administrator</td>\n",
       "      <td>2.351352e-02</td>\n",
       "      <td>2.351352e-02</td>\n",
       "    </tr>\n",
       "    <tr>\n",
       "      <th>29</th>\n",
       "      <td>CodeRev</td>\n",
       "      <td>2.307439e-02</td>\n",
       "      <td>2.307439e-02</td>\n",
       "    </tr>\n",
       "    <tr>\n",
       "      <th>1</th>\n",
       "      <td>Data or business analyst</td>\n",
       "      <td>2.000823e-02</td>\n",
       "      <td>2.000823e-02</td>\n",
       "    </tr>\n",
       "    <tr>\n",
       "      <th>24</th>\n",
       "      <td>OrgSize</td>\n",
       "      <td>-1.885461e-02</td>\n",
       "      <td>1.885461e-02</td>\n",
       "    </tr>\n",
       "    <tr>\n",
       "      <th>28</th>\n",
       "      <td>WorkRemote</td>\n",
       "      <td>1.614981e-02</td>\n",
       "      <td>1.614981e-02</td>\n",
       "    </tr>\n",
       "    <tr>\n",
       "      <th>13</th>\n",
       "      <td>DevOps specialist</td>\n",
       "      <td>1.181051e-02</td>\n",
       "      <td>1.181051e-02</td>\n",
       "    </tr>\n",
       "    <tr>\n",
       "      <th>4</th>\n",
       "      <td>Designer</td>\n",
       "      <td>-1.086519e-02</td>\n",
       "      <td>1.086519e-02</td>\n",
       "    </tr>\n",
       "    <tr>\n",
       "      <th>14</th>\n",
       "      <td>Educator</td>\n",
       "      <td>-1.052550e-02</td>\n",
       "      <td>1.052550e-02</td>\n",
       "    </tr>\n",
       "    <tr>\n",
       "      <th>2</th>\n",
       "      <td>Data scientist or machine learning specialist</td>\n",
       "      <td>9.495622e-03</td>\n",
       "      <td>9.495622e-03</td>\n",
       "    </tr>\n",
       "    <tr>\n",
       "      <th>15</th>\n",
       "      <td>Engineer, data</td>\n",
       "      <td>8.921310e-03</td>\n",
       "      <td>8.921310e-03</td>\n",
       "    </tr>\n",
       "    <tr>\n",
       "      <th>12</th>\n",
       "      <td>Developer, QA or test</td>\n",
       "      <td>8.804679e-03</td>\n",
       "      <td>8.804679e-03</td>\n",
       "    </tr>\n",
       "    <tr>\n",
       "      <th>18</th>\n",
       "      <td>Marketing or sales professional</td>\n",
       "      <td>6.657758e-03</td>\n",
       "      <td>6.657758e-03</td>\n",
       "    </tr>\n",
       "    <tr>\n",
       "      <th>30</th>\n",
       "      <td>YearsCode</td>\n",
       "      <td>5.631891e-03</td>\n",
       "      <td>5.631891e-03</td>\n",
       "    </tr>\n",
       "    <tr>\n",
       "      <th>16</th>\n",
       "      <td>Engineer, site reliability</td>\n",
       "      <td>4.504608e-03</td>\n",
       "      <td>4.504608e-03</td>\n",
       "    </tr>\n",
       "    <tr>\n",
       "      <th>31</th>\n",
       "      <td>Age</td>\n",
       "      <td>-3.694074e-03</td>\n",
       "      <td>3.694074e-03</td>\n",
       "    </tr>\n",
       "    <tr>\n",
       "      <th>26</th>\n",
       "      <td>WorkWeekHrs</td>\n",
       "      <td>-1.281787e-03</td>\n",
       "      <td>1.281787e-03</td>\n",
       "    </tr>\n",
       "    <tr>\n",
       "      <th>25</th>\n",
       "      <td>ConvertedComp</td>\n",
       "      <td>1.112269e-08</td>\n",
       "      <td>1.112269e-08</td>\n",
       "    </tr>\n",
       "  </tbody>\n",
       "</table>\n",
       "</div>"
      ],
      "text/plain": [
       "                                          est_int         coefs     abs_coefs\n",
       "32                                      CareerSat  6.799915e-01  6.799915e-01\n",
       "21                            Senior executive/VP  1.689543e-01  1.689543e-01\n",
       "20                                      Scientist  9.192381e-02  9.192381e-02\n",
       "27                                       WorkPlan  8.740671e-02  8.740671e-02\n",
       "17                            Engineering manager -8.271827e-02  8.271827e-02\n",
       "6   Developer, desktop or enterprise applications -4.901772e-02  4.901772e-02\n",
       "19                                Product manager -4.887747e-02  4.887747e-02\n",
       "9                           Developer, full-stack -4.631098e-02  4.631098e-02\n",
       "11                              Developer, mobile -4.489786e-02  4.489786e-02\n",
       "0                             Academic_Researcher  4.107340e-02  4.107340e-02\n",
       "5                             Developer, back-end -3.753091e-02  3.753091e-02\n",
       "7     Developer, embedded applications or devices  3.629623e-02  3.629623e-02\n",
       "22                                DevType Student  3.518219e-02  3.518219e-02\n",
       "10                    Developer, game or graphics  2.628795e-02  2.628795e-02\n",
       "3                          Database administrator  2.593149e-02  2.593149e-02\n",
       "8                            Developer, front-end  2.535911e-02  2.535911e-02\n",
       "23                           System administrator  2.351352e-02  2.351352e-02\n",
       "29                                        CodeRev  2.307439e-02  2.307439e-02\n",
       "1                        Data or business analyst  2.000823e-02  2.000823e-02\n",
       "24                                        OrgSize -1.885461e-02  1.885461e-02\n",
       "28                                     WorkRemote  1.614981e-02  1.614981e-02\n",
       "13                              DevOps specialist  1.181051e-02  1.181051e-02\n",
       "4                                        Designer -1.086519e-02  1.086519e-02\n",
       "14                                       Educator -1.052550e-02  1.052550e-02\n",
       "2   Data scientist or machine learning specialist  9.495622e-03  9.495622e-03\n",
       "15                                 Engineer, data  8.921310e-03  8.921310e-03\n",
       "12                          Developer, QA or test  8.804679e-03  8.804679e-03\n",
       "18                Marketing or sales professional  6.657758e-03  6.657758e-03\n",
       "30                                      YearsCode  5.631891e-03  5.631891e-03\n",
       "16                     Engineer, site reliability  4.504608e-03  4.504608e-03\n",
       "31                                            Age -3.694074e-03  3.694074e-03\n",
       "26                                    WorkWeekHrs -1.281787e-03  1.281787e-03\n",
       "25                                  ConvertedComp  1.112269e-08  1.112269e-08"
      ]
     },
     "execution_count": 196,
     "metadata": {},
     "output_type": "execute_result"
    }
   ],
   "source": [
    "#Use the function\n",
    "coef_df = coef_weights(model.coef_, X_train)\n",
    "coef_df"
   ]
  },
  {
   "cell_type": "markdown",
   "metadata": {},
   "source": [
    "**Answer to Q3** Perhaps unsuprisingly, the most important factor, or the most closely associated factor, is Career Satisfaction. Other factors have much less influence on job satisfaction. The second most influential is being a Senior executive / VP. This has a lot of overlap with Career Satisfaction. \n",
    "\n",
    "Apart from this, overall, there is little correlation between job satisfaction and the chosen factors. This is also suggested from the plots in Section 3.5 Overall view of the numerical variables."
   ]
  },
  {
   "cell_type": "code",
   "execution_count": null,
   "metadata": {},
   "outputs": [],
   "source": []
  }
 ],
 "metadata": {
  "kernelspec": {
   "display_name": "Python 3",
   "language": "python",
   "name": "python3"
  },
  "language_info": {
   "codemirror_mode": {
    "name": "ipython",
    "version": 3
   },
   "file_extension": ".py",
   "mimetype": "text/x-python",
   "name": "python",
   "nbconvert_exporter": "python",
   "pygments_lexer": "ipython3",
   "version": "3.7.3"
  }
 },
 "nbformat": 4,
 "nbformat_minor": 2
}
